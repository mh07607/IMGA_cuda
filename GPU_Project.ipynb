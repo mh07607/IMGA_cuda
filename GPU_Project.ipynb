{
  "nbformat": 4,
  "nbformat_minor": 0,
  "metadata": {
    "colab": {
      "private_outputs": true,
      "provenance": [],
      "gpuType": "T4"
    },
    "kernelspec": {
      "name": "python3",
      "display_name": "Python 3"
    },
    "language_info": {
      "name": "python"
    },
    "accelerator": "GPU"
  },
  "cells": [
    {
      "cell_type": "code",
      "execution_count": null,
      "metadata": {
        "id": "WQaNVHp3hEI_"
      },
      "outputs": [],
      "source": [
        "!pip install taichi"
      ]
    },
    {
      "cell_type": "code",
      "source": [
        "%cd /content\n",
        "!rm -rf IMGA_cuda\n",
        "!git clone https://github.com/mh07607/IMGA_cuda.git"
      ],
      "metadata": {
        "id": "hZqzsQwAhM5K"
      },
      "execution_count": null,
      "outputs": []
    },
    {
      "cell_type": "markdown",
      "source": [
        "The first command line argument is the number of islands and the second is device. The code generates a plot of average and best fitness against number of generations with the name \"*device* *NUM_ISLANDS*.png\"."
      ],
      "metadata": {
        "id": "yvpddVAFehto"
      }
    },
    {
      "cell_type": "markdown",
      "source": [
        "### TSP"
      ],
      "metadata": {
        "id": "3qcF_yKZeQSw"
      }
    },
    {
      "cell_type": "code",
      "source": [
        "%cd /content/IMGA_cuda/\n",
        "!python3 taichi_tsp_island.py 64 gpu"
      ],
      "metadata": {
        "id": "vNRGwY9GePxi"
      },
      "execution_count": null,
      "outputs": []
    },
    {
      "cell_type": "markdown",
      "source": [
        "### 0/1 Knapsack"
      ],
      "metadata": {
        "id": "nXu431YaeYjX"
      }
    },
    {
      "cell_type": "code",
      "source": [
        "%cd /content/IMGA_cuda/\n",
        "!python3 taichi_knap_island.py 64 gpu"
      ],
      "metadata": {
        "id": "1Xr1EVxPePIe"
      },
      "execution_count": null,
      "outputs": []
    },
    {
      "cell_type": "markdown",
      "source": [
        "# Code for Generating CPU vs GPU performance comparison"
      ],
      "metadata": {
        "id": "pFsPr9e4eKNs"
      }
    },
    {
      "cell_type": "code",
      "source": [
        "# using ring migration\n",
        "# migration_step = 5\n",
        "# num_generations = 50\n",
        "# truncation truncation\n",
        "# mutation_rate = 0.9\n",
        "\n",
        "%cd IMGA_cuda\n",
        "# Taichi CPU implementation\n",
        "for i in [16, 64, 128, 256]:\n",
        "  for j in range(5):\n",
        "    !python3 /content/IMGA_cuda/deprecated/taichi_tsp_island2.py $i cpu\n",
        "\n",
        "# Taichi GPU implementation\n",
        "for i in [16, 64, 128, 256]:\n",
        "  for j in range(5):\n",
        "    !python3 /content/IMGA_cuda/deprecated/taichi_tsp_island2.py $i gpu"
      ],
      "metadata": {
        "id": "hM7oyXNO5-rQ"
      },
      "execution_count": null,
      "outputs": []
    },
    {
      "cell_type": "code",
      "source": [
        "import matplotlib.pyplot as plt\n",
        "\n",
        "# Initialize dictionaries to store data\n",
        "cpu_data = {}\n",
        "gpu_data = {}\n",
        "\n",
        "# Read data from file\n",
        "data = ''\n",
        "with open(\"time.txt\", \"r\") as file:\n",
        "    data = file.readlines()\n",
        "\n",
        "# Parse the data and store it in dictionaries\n",
        "for line in data:\n",
        "    parts = line.split()\n",
        "    if parts[0] == \"cpu\":\n",
        "        cpu_config = int(parts[1]) * 4\n",
        "        cpu_time = float(parts[2])\n",
        "        if cpu_config not in cpu_data:\n",
        "            cpu_data[cpu_config] = []\n",
        "        cpu_data[cpu_config].append(cpu_time)\n",
        "    elif parts[0] == \"gpu\":\n",
        "        gpu_config = int(parts[1]) * 4\n",
        "        gpu_time = float(parts[2]) # Multiply by 4 for GPU\n",
        "        if gpu_config not in gpu_data:\n",
        "            gpu_data[gpu_config] = []\n",
        "        gpu_data[gpu_config].append(gpu_time)\n",
        "\n",
        "# Calculate the average for each configuration\n",
        "cpu_avg = {config: sum(times) / len(times) for config, times in cpu_data.items()}\n",
        "gpu_avg = {config: sum(times) / len(times) for config, times in gpu_data.items()}\n",
        "\n",
        "# Plotting the data\n",
        "plt.figure(figsize=(10, 6))\n",
        "plt.plot([16, 64, 128, 256], list(cpu_avg.values()), label=\"CPU\")\n",
        "plt.plot([16, 64, 128, 256], list(gpu_avg.values()), label=\"GPU\")\n",
        "plt.xlabel(\"Islands\")\n",
        "plt.ylabel(\"Time\")\n",
        "plt.title(\"Average Execution Time vs Num Islands\")\n",
        "plt.legend()\n",
        "plt.grid(True)\n",
        "plt.show()"
      ],
      "metadata": {
        "id": "YH46ohHoU3BJ"
      },
      "execution_count": null,
      "outputs": []
    }
  ]
}