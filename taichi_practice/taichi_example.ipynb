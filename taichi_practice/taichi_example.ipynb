{
  "nbformat": 4,
  "nbformat_minor": 0,
  "metadata": {
    "colab": {
      "provenance": [],
      "gpuType": "T4"
    },
    "kernelspec": {
      "name": "python3",
      "display_name": "Python 3"
    },
    "language_info": {
      "name": "python"
    },
    "accelerator": "GPU"
  },
  "cells": [
    {
      "cell_type": "code",
      "execution_count": null,
      "metadata": {
        "colab": {
          "base_uri": "https://localhost:8080/"
        },
        "id": "gX6LEg6VpDP-",
        "outputId": "c9a27b26-e2e3-4cfa-b2a9-2a004af7cc1f"
      },
      "outputs": [
        {
          "output_type": "stream",
          "name": "stdout",
          "text": [
            "Collecting taichi\n",
            "  Downloading taichi-1.7.0-cp310-cp310-manylinux_2_27_x86_64.whl (54.6 MB)\n",
            "\u001b[2K     \u001b[90m━━━━━━━━━━━━━━━━━━━━━━━━━━━━━━━━━━━━━━━━\u001b[0m \u001b[32m54.6/54.6 MB\u001b[0m \u001b[31m15.7 MB/s\u001b[0m eta \u001b[36m0:00:00\u001b[0m\n",
            "\u001b[?25hRequirement already satisfied: numpy in /usr/local/lib/python3.10/dist-packages (from taichi) (1.25.2)\n",
            "Collecting colorama (from taichi)\n",
            "  Downloading colorama-0.4.6-py2.py3-none-any.whl (25 kB)\n",
            "Collecting dill (from taichi)\n",
            "  Downloading dill-0.3.8-py3-none-any.whl (116 kB)\n",
            "\u001b[2K     \u001b[90m━━━━━━━━━━━━━━━━━━━━━━━━━━━━━━━━━━━━━━━━\u001b[0m \u001b[32m116.3/116.3 kB\u001b[0m \u001b[31m15.8 MB/s\u001b[0m eta \u001b[36m0:00:00\u001b[0m\n",
            "\u001b[?25hRequirement already satisfied: rich in /usr/local/lib/python3.10/dist-packages (from taichi) (13.7.1)\n",
            "Requirement already satisfied: markdown-it-py>=2.2.0 in /usr/local/lib/python3.10/dist-packages (from rich->taichi) (3.0.0)\n",
            "Requirement already satisfied: pygments<3.0.0,>=2.13.0 in /usr/local/lib/python3.10/dist-packages (from rich->taichi) (2.16.1)\n",
            "Requirement already satisfied: mdurl~=0.1 in /usr/local/lib/python3.10/dist-packages (from markdown-it-py>=2.2.0->rich->taichi) (0.1.2)\n",
            "Installing collected packages: dill, colorama, taichi\n",
            "Successfully installed colorama-0.4.6 dill-0.3.8 taichi-1.7.0\n"
          ]
        }
      ],
      "source": [
        "!pip install taichi -U"
      ]
    },
    {
      "cell_type": "markdown",
      "source": [
        "Taichi example on github"
      ],
      "metadata": {
        "id": "m2OPyC0ktvmf"
      }
    },
    {
      "cell_type": "code",
      "source": [
        "# python/taichi/examples/simulation/fractal.py\n",
        "\n",
        "import taichi as ti\n",
        "\n",
        "ti.init(arch=ti.gpu)\n",
        "\n",
        "n = 320\n",
        "pixels = ti.field(dtype=float, shape=(n * 2, n))\n",
        "\n",
        "\n",
        "@ti.func\n",
        "def complex_sqr(z):\n",
        "    return ti.Vector([z[0]**2 - z[1]**2, z[1] * z[0] * 2])\n",
        "\n",
        "\n",
        "@ti.kernel\n",
        "def paint(t: float):\n",
        "    for i, j in pixels:  # Parallelized over all pixels\n",
        "        c = ti.Vector([-0.8, ti.cos(t) * 0.2])\n",
        "        z = ti.Vector([i / n - 1, j / n - 0.5]) * 2\n",
        "        iterations = 0\n",
        "        while z.norm() < 20 and iterations < 50:\n",
        "            z = complex_sqr(z) + c\n",
        "            iterations += 1\n",
        "        pixels[i, j] = 1 - iterations * 0.02\n",
        "\n",
        "\n",
        "gui = ti.GUI(\"Julia Set\", res=(n * 2, n))\n",
        "\n",
        "for i in range(1000000):\n",
        "    paint(i * 0.03)\n",
        "    gui.set_image(pixels)\n",
        "    gui.show()"
      ],
      "metadata": {
        "colab": {
          "base_uri": "https://localhost:8080/",
          "height": 412
        },
        "id": "NH0RKOLIpIZx",
        "outputId": "a44afced-a62a-4857-b51f-e1eb96454f00"
      },
      "execution_count": null,
      "outputs": [
        {
          "output_type": "stream",
          "name": "stdout",
          "text": [
            "[Taichi] version 1.7.0, llvm 15.0.4, commit 2fd24490, linux, python 3.10.12\n",
            "[Taichi] Starting on arch=cuda\n"
          ]
        },
        {
          "output_type": "error",
          "ename": "RuntimeError",
          "evalue": "[x11.cpp:create_window@154] Taichi fails to create a window. This is probably due to the lack of an X11 GUI environment. Consider using the `ti.GUI(show_gui=False)` option, see https://docs.taichi-lang.org/docs/gui_system",
          "traceback": [
            "\u001b[0;31m---------------------------------------------------------------------------\u001b[0m",
            "\u001b[0;31mRuntimeError\u001b[0m                              Traceback (most recent call last)",
            "\u001b[0;32m<ipython-input-2-b3f328b1c01c>\u001b[0m in \u001b[0;36m<cell line: 28>\u001b[0;34m()\u001b[0m\n\u001b[1;32m     26\u001b[0m \u001b[0;34m\u001b[0m\u001b[0m\n\u001b[1;32m     27\u001b[0m \u001b[0;34m\u001b[0m\u001b[0m\n\u001b[0;32m---> 28\u001b[0;31m \u001b[0mgui\u001b[0m \u001b[0;34m=\u001b[0m \u001b[0mti\u001b[0m\u001b[0;34m.\u001b[0m\u001b[0mGUI\u001b[0m\u001b[0;34m(\u001b[0m\u001b[0;34m\"Julia Set\"\u001b[0m\u001b[0;34m,\u001b[0m \u001b[0mres\u001b[0m\u001b[0;34m=\u001b[0m\u001b[0;34m(\u001b[0m\u001b[0mn\u001b[0m \u001b[0;34m*\u001b[0m \u001b[0;36m2\u001b[0m\u001b[0;34m,\u001b[0m \u001b[0mn\u001b[0m\u001b[0;34m)\u001b[0m\u001b[0;34m)\u001b[0m\u001b[0;34m\u001b[0m\u001b[0;34m\u001b[0m\u001b[0m\n\u001b[0m\u001b[1;32m     29\u001b[0m \u001b[0;34m\u001b[0m\u001b[0m\n\u001b[1;32m     30\u001b[0m \u001b[0;32mfor\u001b[0m \u001b[0mi\u001b[0m \u001b[0;32min\u001b[0m \u001b[0mrange\u001b[0m\u001b[0;34m(\u001b[0m\u001b[0;36m1000000\u001b[0m\u001b[0;34m)\u001b[0m\u001b[0;34m:\u001b[0m\u001b[0;34m\u001b[0m\u001b[0;34m\u001b[0m\u001b[0m\n",
            "\u001b[0;32m/usr/local/lib/python3.10/dist-packages/taichi/ui/gui.py\u001b[0m in \u001b[0;36m__init__\u001b[0;34m(self, name, res, background_color, show_gui, fullscreen, fast_gui)\u001b[0m\n\u001b[1;32m    104\u001b[0m             \u001b[0mself\u001b[0m\u001b[0;34m.\u001b[0m\u001b[0mimg\u001b[0m \u001b[0;34m=\u001b[0m \u001b[0mnp\u001b[0m\u001b[0;34m.\u001b[0m\u001b[0mascontiguousarray\u001b[0m\u001b[0;34m(\u001b[0m\u001b[0mnp\u001b[0m\u001b[0;34m.\u001b[0m\u001b[0mzeros\u001b[0m\u001b[0;34m(\u001b[0m\u001b[0mself\u001b[0m\u001b[0;34m.\u001b[0m\u001b[0mres\u001b[0m \u001b[0;34m+\u001b[0m \u001b[0;34m(\u001b[0m\u001b[0;36m4\u001b[0m\u001b[0;34m,\u001b[0m\u001b[0;34m)\u001b[0m\u001b[0;34m,\u001b[0m \u001b[0mnp\u001b[0m\u001b[0;34m.\u001b[0m\u001b[0mfloat32\u001b[0m\u001b[0;34m)\u001b[0m\u001b[0;34m)\u001b[0m\u001b[0;34m\u001b[0m\u001b[0;34m\u001b[0m\u001b[0m\n\u001b[1;32m    105\u001b[0m             \u001b[0mfast_buf\u001b[0m \u001b[0;34m=\u001b[0m \u001b[0;36m0\u001b[0m\u001b[0;34m\u001b[0m\u001b[0;34m\u001b[0m\u001b[0m\n\u001b[0;32m--> 106\u001b[0;31m         \u001b[0mself\u001b[0m\u001b[0;34m.\u001b[0m\u001b[0mcore\u001b[0m \u001b[0;34m=\u001b[0m \u001b[0m_ti_core\u001b[0m\u001b[0;34m.\u001b[0m\u001b[0mGUI\u001b[0m\u001b[0;34m(\u001b[0m\u001b[0mname\u001b[0m\u001b[0;34m,\u001b[0m \u001b[0mcore_veci\u001b[0m\u001b[0;34m(\u001b[0m\u001b[0;34m*\u001b[0m\u001b[0mres\u001b[0m\u001b[0;34m)\u001b[0m\u001b[0;34m,\u001b[0m \u001b[0mshow_gui\u001b[0m\u001b[0;34m,\u001b[0m \u001b[0mfullscreen\u001b[0m\u001b[0;34m,\u001b[0m \u001b[0mfast_gui\u001b[0m\u001b[0;34m,\u001b[0m \u001b[0mfast_buf\u001b[0m\u001b[0;34m)\u001b[0m\u001b[0;34m\u001b[0m\u001b[0;34m\u001b[0m\u001b[0m\n\u001b[0m\u001b[1;32m    107\u001b[0m         \u001b[0mself\u001b[0m\u001b[0;34m.\u001b[0m\u001b[0mcanvas\u001b[0m \u001b[0;34m=\u001b[0m \u001b[0mself\u001b[0m\u001b[0;34m.\u001b[0m\u001b[0mcore\u001b[0m\u001b[0;34m.\u001b[0m\u001b[0mget_canvas\u001b[0m\u001b[0;34m(\u001b[0m\u001b[0;34m)\u001b[0m\u001b[0;34m\u001b[0m\u001b[0;34m\u001b[0m\u001b[0m\n\u001b[1;32m    108\u001b[0m         \u001b[0mself\u001b[0m\u001b[0;34m.\u001b[0m\u001b[0mbackground_color\u001b[0m \u001b[0;34m=\u001b[0m \u001b[0mbackground_color\u001b[0m\u001b[0;34m\u001b[0m\u001b[0;34m\u001b[0m\u001b[0m\n",
            "\u001b[0;31mRuntimeError\u001b[0m: [x11.cpp:create_window@154] Taichi fails to create a window. This is probably due to the lack of an X11 GUI environment. Consider using the `ti.GUI(show_gui=False)` option, see https://docs.taichi-lang.org/docs/gui_system"
          ]
        }
      ]
    },
    {
      "cell_type": "markdown",
      "source": [
        "Taichi fractal image example supported on colab"
      ],
      "metadata": {
        "id": "r-zXXmj2sHGJ"
      }
    },
    {
      "cell_type": "code",
      "source": [
        "!mkdir fractal_images"
      ],
      "metadata": {
        "id": "NuSK3ALrsJip"
      },
      "execution_count": null,
      "outputs": []
    },
    {
      "cell_type": "code",
      "source": [
        "import taichi as ti\n",
        "import os\n",
        "import imageio\n",
        "from PIL import Image\n",
        "\n",
        "ti.init(arch=ti.gpu)\n",
        "n = 320\n",
        "pixels = ti.field(dtype=float, shape=(n * 2, n))\n",
        "\n",
        "@ti.func\n",
        "def complex_sqr(z):\n",
        "    return ti.Vector([z[0]**2 - z[1]**2, z[1] * z[0] * 2])\n",
        "\n",
        "@ti.kernel\n",
        "def paint(t: float):\n",
        "    for i, j in pixels:\n",
        "        c = ti.Vector([-0.8, ti.cos(t) * 0.2])\n",
        "        z = ti.Vector([i / n - 1, j / n - 0.5]) * 2\n",
        "        iterations = 0\n",
        "        while z.norm() < 20 and iterations < 50:\n",
        "            z = complex_sqr(z) + c\n",
        "            iterations += 1\n",
        "        pixels[i, j] = 1 - iterations * 0.02\n",
        "\n",
        "\n",
        "for i in range(1000):\n",
        "    paint(i * 0.03)\n",
        "    img_data = (pixels.to_numpy() * 255).astype(np.uint8)\n",
        "    img = Image.fromarray(img_data)\n",
        "    img_path = os.path.join('fractal_images', f'fractal_{i:04d}.png')\n",
        "    img.save(img_path)\n",
        "\n",
        "\n",
        "with imageio.get_writer('fractal.mp4', mode='I') as writer:\n",
        "    for i in range(1000):\n",
        "        img_path = os.path.join('fractal_images', f'fractal_{i:04d}.png')\n",
        "        img = imageio.imread(img_path)\n",
        "        writer.append_data(img)"
      ],
      "metadata": {
        "colab": {
          "base_uri": "https://localhost:8080/"
        },
        "id": "VxAjQLJaq-hg",
        "outputId": "4e26007d-947b-44ce-e9f9-d39ea756b726"
      },
      "execution_count": null,
      "outputs": [
        {
          "output_type": "stream",
          "name": "stdout",
          "text": [
            "[Taichi] Starting on arch=cuda\n"
          ]
        },
        {
          "output_type": "stream",
          "name": "stderr",
          "text": [
            "<ipython-input-10-decded0fb741>:37: DeprecationWarning: Starting with ImageIO v3 the behavior of this function will switch to that of iio.v3.imread. To keep the current behavior (and make this warning disappear) use `import imageio.v2 as imageio` or call `imageio.v2.imread` directly.\n",
            "  img = imageio.imread(img_path)\n"
          ]
        }
      ]
    }
  ]
}